{
 "cells": [
  {
   "cell_type": "markdown",
   "metadata": {},
   "source": [
    "# Python Programming Basics"
   ]
  },
  {
   "cell_type": "markdown",
   "metadata": {},
   "source": [
    "## Variables"
   ]
  },
  {
   "cell_type": "code",
   "execution_count": null,
   "metadata": {},
   "outputs": [],
   "source": [
    "variable_name = 'Variable value'\n",
    "variable_name"
   ]
  },
  {
   "cell_type": "code",
   "execution_count": null,
   "metadata": {},
   "outputs": [],
   "source": [
    "print(variable_name)"
   ]
  },
  {
   "cell_type": "markdown",
   "metadata": {},
   "source": [
    "## Types\n",
    "\n",
    "https://www.programiz.com/python-programming/variables-datatypes"
   ]
  },
  {
   "cell_type": "markdown",
   "metadata": {},
   "source": [
    "### Numbers"
   ]
  },
  {
   "cell_type": "code",
   "execution_count": null,
   "metadata": {},
   "outputs": [],
   "source": [
    "a = 5\n",
    "print(a, \"is of type\", type(a))\n",
    "\n",
    "a = 2.0\n",
    "print(a, \"is of type\", type(a))\n",
    "\n",
    "a = 1+2j\n",
    "print(a, \"is complex number?\", isinstance(a, complex))"
   ]
  },
  {
   "cell_type": "markdown",
   "metadata": {},
   "source": [
    "### Strings"
   ]
  },
  {
   "cell_type": "code",
   "execution_count": null,
   "metadata": {},
   "outputs": [],
   "source": [
    "s = 'Hello world!'\n",
    "\n",
    "# s[4] = 'o'\n",
    "print(\"s[4] =\", s[4])\n",
    "\n",
    "# s[6:11] = 'world'\n",
    "print(\"s[6:11] =\", s[6:11])\n",
    "\n",
    "print(len(s))\n",
    "\n",
    "# Generates error\n",
    "# Strings are immutable in Python\n",
    "# s[5] ='d'"
   ]
  },
  {
   "cell_type": "code",
   "execution_count": 1,
   "metadata": {},
   "outputs": [
    {
     "ename": "SyntaxError",
     "evalue": "invalid syntax (<ipython-input-1-fe1adc44359d>, line 2)",
     "output_type": "error",
     "traceback": [
      "\u001b[0;36m  File \u001b[0;32m\"<ipython-input-1-fe1adc44359d>\"\u001b[0;36m, line \u001b[0;32m2\u001b[0m\n\u001b[0;31m    print(a \"is type of\")\u001b[0m\n\u001b[0m                       ^\u001b[0m\n\u001b[0;31mSyntaxError\u001b[0m\u001b[0;31m:\u001b[0m invalid syntax\n"
     ]
    }
   ],
   "source": [
    "a = 5\n",
    "print(a \"is type of\")\n",
    "\n",
    "# s[4] = 'o'\n",
    "print(\"s[4] =\", s[4])\n",
    "\n",
    "# s[6:11] = 'world'\n",
    "print(\"s[6:11] =\", s[6:11])\n",
    "\n",
    "print(len(s))\n",
    "\n",
    "# Generates error\n",
    "# Strings are immutable in Python\n",
    "# s[5] ='d'"
   ]
  },
  {
   "cell_type": "markdown",
   "metadata": {},
   "source": [
    "#### Template Strings"
   ]
  },
  {
   "cell_type": "code",
   "execution_count": 2,
   "metadata": {},
   "outputs": [
    {
     "ename": "SyntaxError",
     "evalue": "unexpected EOF while parsing (<ipython-input-2-e64cf91d5cbf>, line 11)",
     "output_type": "error",
     "traceback": [
      "\u001b[0;36m  File \u001b[0;32m\"<ipython-input-2-e64cf91d5cbf>\"\u001b[0;36m, line \u001b[0;32m11\u001b[0m\n\u001b[0;31m    print('Hello {firstname}!'.format(*person)\u001b[0m\n\u001b[0m                                              ^\u001b[0m\n\u001b[0;31mSyntaxError\u001b[0m\u001b[0;31m:\u001b[0m unexpected EOF while parsing\n"
     ]
    }
   ],
   "source": [
    "name = 'Peter'\n",
    "\n",
    "print(f'Hello {name}!')\n",
    "\n",
    "person = {\n",
    "    \"firstname\": \"Paul\",\n",
    "    \"lastname\": \"Müller\"\n",
    "    \n",
    "}\n",
    "\n",
    "print('Hello {firstname}!'.format(*person)"
   ]
  },
  {
   "cell_type": "markdown",
   "metadata": {},
   "source": [
    "### Lists\n",
    "\n",
    "**Important:** Python has zero based indexing"
   ]
  },
  {
   "cell_type": "code",
   "execution_count": 8,
   "metadata": {},
   "outputs": [
    {
     "name": "stdout",
     "output_type": "stream",
     "text": [
      "<class 'list'>\n",
      "['Klaus', 'Peter', 'Max']\n",
      "\n",
      "Hallo Klaus Peter!\n"
     ]
    }
   ],
   "source": [
    "person = ['Klaus', 'Peter', \"Max\"]\n",
    "\n",
    "print(type(person))\n",
    "print(person)\n",
    "print()\n",
    "\n",
    "# The * before person unpacks the list\n",
    "print('Hallo {} {}!'.format(*person))"
   ]
  },
  {
   "cell_type": "code",
   "execution_count": 4,
   "metadata": {},
   "outputs": [
    {
     "name": "stdout",
     "output_type": "stream",
     "text": [
      "Numbers has 6 elements and a sum of 21\n"
     ]
    }
   ],
   "source": [
    "numbers = [1, 2, 3, 4, 5, 6]\n",
    "numbers_count = len(numbers)\n",
    "numbers_sum = sum(numbers)\n",
    "\n",
    "print(f'Numbers has {numbers_count} elements and a sum of {numbers_sum}')"
   ]
  },
  {
   "cell_type": "code",
   "execution_count": 5,
   "metadata": {},
   "outputs": [
    {
     "name": "stdout",
     "output_type": "stream",
     "text": [
      "[4, 9, 0, 3]\n",
      "[4, 9, 1, 3]\n"
     ]
    }
   ],
   "source": [
    "# Mutable\n",
    "a_list = [4, 9, 0, 3]\n",
    "print(a_list)\n",
    "\n",
    "a_list[2] = 1\n",
    "print(a_list)"
   ]
  },
  {
   "cell_type": "markdown",
   "metadata": {},
   "source": [
    "### Tuples\n",
    "\n",
    "Tupels sind eine besondere Art der Liste.\n",
    "\n",
    "- Immutable\n",
    "- Können als key in einem Dict benutzt werden"
   ]
  },
  {
   "cell_type": "code",
   "execution_count": 6,
   "metadata": {},
   "outputs": [
    {
     "name": "stdout",
     "output_type": "stream",
     "text": [
      "<class 'tuple'>\n",
      "('Klaus', 'Peter')\n",
      "2\n",
      "Klaus\n",
      "Peter\n",
      "Hallo Klaus Peter!\n"
     ]
    }
   ],
   "source": [
    "person = ('Klaus', 'Peter')\n",
    "print(type(person))\n",
    "print(person)\n",
    "print(len(person))\n",
    "\n",
    "# Firstname\n",
    "print(person[0])\n",
    "\n",
    "# Lastname\n",
    "print(person[1])\n",
    "\n",
    "# The * before person unpacks the tuple\n",
    "print('Hallo {0} {1}!'.format(*person))\n",
    "\n",
    "# Does not work because a tuple is immutable\n",
    "# person[2] = 'Mayer'"
   ]
  },
  {
   "cell_type": "markdown",
   "metadata": {},
   "source": [
    "### Dicts"
   ]
  },
  {
   "cell_type": "code",
   "execution_count": 7,
   "metadata": {},
   "outputs": [
    {
     "name": "stdout",
     "output_type": "stream",
     "text": [
      "<class 'dict'>\n",
      "{'key': 'value', 'other_key': 'other_value'}\n",
      "Hallo Klaus Peter!\n"
     ]
    }
   ],
   "source": [
    "a_dictionary = {\n",
    "    'key': 'value',\n",
    "    'other_key': 'other_value',\n",
    "}\n",
    "print(type(a_dictionary))\n",
    "print(a_dictionary)\n",
    "\n",
    "person = {\n",
    "    'firstname': 'Klaus',\n",
    "    'lastname': 'Peter',\n",
    "}\n",
    "\n",
    "print('Hallo {firstname} {lastname}!'.format(**person))"
   ]
  },
  {
   "cell_type": "markdown",
   "metadata": {},
   "source": [
    "## Iterables / Loops"
   ]
  },
  {
   "cell_type": "code",
   "execution_count": 11,
   "metadata": {},
   "outputs": [
    {
     "name": "stdout",
     "output_type": "stream",
     "text": [
      "4\n",
      "9\n",
      "0\n",
      "3\n",
      "\n",
      "\n",
      "0 4\n",
      "1 9\n",
      "2 0\n",
      "3 3\n"
     ]
    }
   ],
   "source": [
    "a_list = [4, 9, 0, 3]\n",
    "\n",
    "for item in a_list:\n",
    "    print(item)\n",
    "    \n",
    "print('\\n')\n",
    "\n",
    "for index, item in enumerate(a_list):\n",
    "    print(index, item)\n"
   ]
  },
  {
   "cell_type": "code",
   "execution_count": null,
   "metadata": {},
   "outputs": [],
   "source": [
    "a_dict = {'firstname': 'Klaus', 'lastname': 'Peter'}\n",
    "\n",
    "for key in a_dict:\n",
    "    print(key, a_dict[key])\n",
    "\n",
    "print('\\n')\n",
    "\n",
    "# With a_dict.items()\n",
    "for key, value in a_dict.items():\n",
    "    print(key, value)"
   ]
  },
  {
   "cell_type": "markdown",
   "metadata": {},
   "source": [
    "## Functions"
   ]
  },
  {
   "cell_type": "code",
   "execution_count": null,
   "metadata": {},
   "outputs": [],
   "source": [
    "# Returns the sum\n",
    "def add(left, right):\n",
    "    return left + right\n",
    "\n",
    "result = add(10, 100)\n",
    "print(f'10 + 100 = {result}')"
   ]
  },
  {
   "cell_type": "code",
   "execution_count": null,
   "metadata": {},
   "outputs": [],
   "source": [
    "# Does not return anything but prints the result\n",
    "def add_and_print(left, right):\n",
    "    result = add(left, right)\n",
    "    print(f'{left} + {right} = {result}')\n",
    "    \n",
    "add_and_print(5, 18)"
   ]
  },
  {
   "cell_type": "markdown",
   "metadata": {},
   "source": [
    "### Positional and Keyword arguments"
   ]
  },
  {
   "cell_type": "code",
   "execution_count": null,
   "metadata": {},
   "outputs": [],
   "source": [
    "# Positional\n",
    "def say_hello_to(firstname, lastname):\n",
    "    print(f'Hello {firstname} {lastname}!')\n",
    "    \n",
    "say_hello_to('Anna', 'Müller')\n",
    "\n",
    "def say_hello_to(*, firstname, lastname):\n",
    "    print(f'Hello {firstname} {lastname}!')\n",
    "\n",
    "say_hello_to(firstname='Anna',\n",
    "             lastname='Müller')\n",
    "\n",
    "print('\\n')\n",
    "people = [\n",
    "    {'firstname': 'Anna', 'lastname': 'Müller'},\n",
    "    {'firstname': 'Klaus', 'lastname': 'Peter'},\n",
    "]\n",
    "\n",
    "for person in people:\n",
    "    say_hello_to(**person)"
   ]
  },
  {
   "cell_type": "markdown",
   "metadata": {},
   "source": [
    "## Classes"
   ]
  },
  {
   "cell_type": "code",
   "execution_count": null,
   "metadata": {},
   "outputs": [],
   "source": [
    "class Dog:\n",
    "    def __init__(self, name):\n",
    "        self.name = name\n",
    "        self._state = 'idle'\n",
    "        \n",
    "    def eat(self):\n",
    "        self._state = 'eating'\n",
    "        print(f'{self.name} is eating')\n",
    "        \n",
    "    def sleep(self):\n",
    "        self._state = 'sleeping'\n",
    "        self._print_state()\n",
    "\n",
    "    def _print_state(self):\n",
    "        print(f'{self.name} is {self._state}')\n",
    "\n",
    "dog = Dog('Lily')\n",
    "print(dog)\n",
    "print(dog.name)\n",
    "\n",
    "dog.eat()\n",
    "dog.sleep()\n"
   ]
  },
  {
   "cell_type": "markdown",
   "metadata": {},
   "source": [
    "## Modules / Packages / Imports"
   ]
  },
  {
   "cell_type": "code",
   "execution_count": null,
   "metadata": {},
   "outputs": [],
   "source": [
    "import pandas as pd\n",
    "\n",
    "print(pd)\n",
    "print(pd.DataFrame())"
   ]
  },
  {
   "cell_type": "code",
   "execution_count": null,
   "metadata": {},
   "outputs": [],
   "source": []
  }
 ],
 "metadata": {
  "kernelspec": {
   "display_name": "Python 3",
   "language": "python",
   "name": "python3"
  },
  "language_info": {
   "codemirror_mode": {
    "name": "ipython",
    "version": 3
   },
   "file_extension": ".py",
   "mimetype": "text/x-python",
   "name": "python",
   "nbconvert_exporter": "python",
   "pygments_lexer": "ipython3",
   "version": "3.7.1"
  }
 },
 "nbformat": 4,
 "nbformat_minor": 2
}
